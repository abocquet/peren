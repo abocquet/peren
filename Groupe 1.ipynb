{
 "cells": [
  {
   "cell_type": "code",
   "execution_count": 16,
   "id": "abcb9da2-4335-4338-ac9f-5efafa9452cd",
   "metadata": {},
   "outputs": [],
   "source": [
    "import pandas as pd\n",
    "import numpy as np"
   ]
  },
  {
   "cell_type": "code",
   "execution_count": 17,
   "id": "72b51335-111c-44de-a437-65b2cb5df34d",
   "metadata": {},
   "outputs": [],
   "source": [
    "df = pd.read_csv(\"dataset.csv\")"
   ]
  },
  {
   "cell_type": "code",
   "execution_count": 18,
   "id": "918ca84d-c367-4154-9286-161a301ffa9e",
   "metadata": {},
   "outputs": [],
   "source": [
    "df[\"AggrCoordinates\"] = pd.Categorical(df.start_lat.astype(str) + ' ' + df.start_lon.astype(str))\n",
    "mapping = df.AggrCoordinates.drop_duplicates().to_frame()\n",
    "mapping['Restaurant'] = np.arange(mapping.shape[0])\n",
    "df['Restaurant'] = mapping.set_index('AggrCoordinates').reindex(df.AggrCoordinates.values).Restaurant.values\n",
    "df.drop(columns=[\"AggrCoordinates\"], inplace=True)"
   ]
  },
  {
   "cell_type": "code",
   "execution_count": 32,
   "id": "7467e499-62f2-4c48-887c-1107b8143d54",
   "metadata": {},
   "outputs": [],
   "source": [
    "groupe_1 = df.groupby('Restaurant').agg({'fee': ['mean', 'std']}).fee.query('std == 0')\n",
    "groupe_1 = df.loc[df.Restaurant.isin(groupe_1.index)]\n",
    "groupe_1 = groupe_1[\"Restaurant\"].unique()\n",
    "pd.DataFrame(groupe_1).to_csv('groupe_1.csv', index=False)"
   ]
  },
  {
   "cell_type": "code",
   "execution_count": null,
   "id": "9933fc01-7369-47d4-a45d-689f3c481cf6",
   "metadata": {},
   "outputs": [],
   "source": []
  }
 ],
 "metadata": {
  "kernelspec": {
   "display_name": "Python 3 (ipykernel)",
   "language": "python",
   "name": "python3"
  },
  "language_info": {
   "codemirror_mode": {
    "name": "ipython",
    "version": 3
   },
   "file_extension": ".py",
   "mimetype": "text/x-python",
   "name": "python",
   "nbconvert_exporter": "python",
   "pygments_lexer": "ipython3",
   "version": "3.10.9"
  }
 },
 "nbformat": 4,
 "nbformat_minor": 5
}
